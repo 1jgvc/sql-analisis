{
  "nbformat": 4,
  "nbformat_minor": 0,
  "metadata": {
    "colab": {
      "provenance": [],
      "authorship_tag": "ABX9TyO8OgM6tNt8vZBlpVsKhrHw",
      "include_colab_link": true
    },
    "kernelspec": {
      "name": "python3",
      "display_name": "Python 3"
    },
    "language_info": {
      "name": "python"
    }
  },
  "cells": [
    {
      "cell_type": "markdown",
      "metadata": {
        "id": "view-in-github",
        "colab_type": "text"
      },
      "source": [
        "<a href=\"https://colab.research.google.com/github/1jgvc/sql-analisis/blob/main/SQL_analisis.ipynb\" target=\"_parent\"><img src=\"https://colab.research.google.com/assets/colab-badge.svg\" alt=\"Open In Colab\"/></a>"
      ]
    },
    {
      "cell_type": "code",
      "execution_count": 85,
      "metadata": {
        "id": "0mvXz-yx_S2G"
      },
      "outputs": [],
      "source": [
        "#importamos librerias que se utilizaran\n",
        "import pandas as pd\n",
        "import matplotlib.pyplot as pl\n",
        "import sqlite3\n",
        "conn = sqlite3.connect('emergencias_ssa.db')\n",
        "cursor = conn.cursor()"
      ]
    },
    {
      "cell_type": "code",
      "source": [
        "\"\"\"\n",
        "Seleccionamos un dataset del catalogo\n",
        "http://www.dgis.salud.gob.mx/contenidos/basesdedatos/Datos_Abiertos_gobmx.html\n",
        "\n",
        "En este caso es el de urgencias en su ultima vesion hasta el momento\n",
        "http://www.dgis.salud.gob.mx/descargas/datosabiertos/urgencias/Urgencias_2024.zip?v=2024.04.05\n",
        "\"\"\"\n",
        "%pwd\n",
        "#asiganoms un nombre de salida para evitar contratiempos (tiene extencion zip!!)\n",
        "urgencias_dir='urgencias-salud-data/'\n",
        "data_file='urgencias-dataset-current.zip'\n",
        "complete_path=urgencias_dir+data_file\n",
        "%mkdir urgencias-salud-data\n",
        "!wget -O $complete_path http://www.dgis.salud.gob.mx/descargas/datosabiertos/urgencias/Urgencias_2024.zip?v=2024.04.05\n"
      ],
      "metadata": {
        "colab": {
          "base_uri": "https://localhost:8080/"
        },
        "id": "c8e9YZob_lXR",
        "outputId": "71f79927-9f79-431e-c077-86c194181c8a"
      },
      "execution_count": 2,
      "outputs": [
        {
          "output_type": "stream",
          "name": "stdout",
          "text": [
            "mkdir: cannot create directory ‘urgencias-salud-data’: File exists\n",
            "--2024-06-09 07:20:53--  http://www.dgis.salud.gob.mx/descargas/datosabiertos/urgencias/Urgencias_2024.zip?v=2024.04.05\n",
            "Resolving www.dgis.salud.gob.mx (www.dgis.salud.gob.mx)... 201.98.60.128\n",
            "Connecting to www.dgis.salud.gob.mx (www.dgis.salud.gob.mx)|201.98.60.128|:80... connected.\n",
            "HTTP request sent, awaiting response... 200 OK\n",
            "Length: 46163532 (44M) [application/zip]\n",
            "Saving to: ‘urgencias-salud-data/urgencias-dataset-current.zip’\n",
            "\n",
            "urgencias-salud-dat 100%[===================>]  44.02M  13.9MB/s    in 3.5s    \n",
            "\n",
            "2024-06-09 07:20:57 (12.6 MB/s) - ‘urgencias-salud-data/urgencias-dataset-current.zip’ saved [46163532/46163532]\n",
            "\n"
          ]
        }
      ]
    },
    {
      "cell_type": "code",
      "source": [
        "#Descomprimimos el archivo\n",
        "!unzip -o $complete_path -d $urgencias_dir"
      ],
      "metadata": {
        "colab": {
          "base_uri": "https://localhost:8080/"
        },
        "id": "I-uPyI3fB3q_",
        "outputId": "8d4879ae-733d-4c71-e971-24912031a0f9"
      },
      "execution_count": 7,
      "outputs": [
        {
          "output_type": "stream",
          "name": "stdout",
          "text": [
            "Archive:  urgencias-salud-data/urgencias-dataset-current.zip\n",
            "  inflating: urgencias-salud-data/Registros/Afecciones.txt  \n",
            "  inflating: urgencias-salud-data/Registros/Medicamentos.txt  \n",
            "  inflating: urgencias-salud-data/Registros/Procedimientos.txt  \n",
            "  inflating: urgencias-salud-data/Registros/Urgencias.txt  \n"
          ]
        }
      ]
    },
    {
      "cell_type": "code",
      "source": [
        "#convertimos el dataset en pandaDataFrame\n",
        "emergencies_file=urgencias_dir+\"Registros/Urgencias.txt\"\n",
        "df_emergencies=pd.read_csv(emergencies_file, delimiter='|',engine='python')"
      ],
      "metadata": {
        "id": "L1zxCWniCLm7"
      },
      "execution_count": 36,
      "outputs": []
    },
    {
      "cell_type": "code",
      "source": [
        "cursor.execute(\"DROP TABLE IF EXISTS emergencias_raw\")\n",
        "\n",
        "#Insertamos todos los datos en nuestra base de datos de SQLite\n",
        "df_emergencies.to_sql(name='emergencias_raw', con=conn)\n",
        "#Limpiamos los datos que no son de sonora para liberar espacio en la maquina virtual de colab\n",
        "#clean_emergency_SQL=\"DELETE FROM `emergencias_raw` WHERE ENTRESIDENCIA='26'\"\n",
        "#cursor.execute(clean_emergency_SQL)"
      ],
      "metadata": {
        "colab": {
          "base_uri": "https://localhost:8080/"
        },
        "id": "r6cEo0TeEbR5",
        "outputId": "4a331e37-0de2-45a0-91c8-5334b4ed414e"
      },
      "execution_count": 63,
      "outputs": [
        {
          "output_type": "execute_result",
          "data": {
            "text/plain": [
              "1590328"
            ]
          },
          "metadata": {},
          "execution_count": 63
        }
      ]
    },
    {
      "cell_type": "code",
      "source": [
        "#Creamos tabla emergency\n",
        "create_emergency_SQL=\"CREATE TABLE IF NOT EXISTS `emergency`\"\n",
        "create_emergency_SQL+=\"(`eme_id` INTEGER PRIMARY KEY AUTOINCREMENT,\"\n",
        "create_emergency_SQL+=\"`eme_id_state` INT NOT NULL , `eme_id_city` INT NOT NULL,\"\n",
        "create_emergency_SQL+=\"`eme_date_start` DATE NOT NULL , `eme_sex` TINYINT NOT NULL);\"\n",
        "cursor.execute(create_emergency_SQL)\n"
      ],
      "metadata": {
        "colab": {
          "base_uri": "https://localhost:8080/"
        },
        "id": "PM7Zv3vxGG7Y",
        "outputId": "d9e7338b-9204-41c0-8223-dead73eceec4"
      },
      "execution_count": 64,
      "outputs": [
        {
          "output_type": "execute_result",
          "data": {
            "text/plain": [
              "<sqlite3.Cursor at 0x7acdde4d9640>"
            ]
          },
          "metadata": {},
          "execution_count": 64
        }
      ]
    },
    {
      "cell_type": "code",
      "source": [
        "\n",
        "#Del catalogo Descriptores_Base_de_Datos_URGENCIAS_2008_2016 obtenemos el ID de Sonora=26\n",
        "#Cargamos nuestra base de datos principal con los datos de sonora\n",
        "populate_emergency_SQL=\"INSERT INTO `emergency` (eme_id_state,eme_id_city,eme_date_start,eme_sex) \"\n",
        "populate_emergency_SQL+=\"SELECT ENTRESIDENCIA,MUNRESIDENCIA,fechaingreso,SEXO FROM `emergencias_raw` WHERE ENTRESIDENCIA='26'\"\n",
        "cursor.execute(populate_emergency_SQL)"
      ],
      "metadata": {
        "colab": {
          "base_uri": "https://localhost:8080/"
        },
        "id": "MZpNTg5H6WPu",
        "outputId": "8fca3cfa-ea82-43db-b1d3-53c5fa7e536d"
      },
      "execution_count": 92,
      "outputs": [
        {
          "output_type": "execute_result",
          "data": {
            "text/plain": [
              "<sqlite3.Cursor at 0x7ace103254c0>"
            ]
          },
          "metadata": {},
          "execution_count": 92
        }
      ]
    },
    {
      "cell_type": "code",
      "source": [
        "#Obtenemos el catalogo de municipios para utilizarlo en nuestro conjunto de datos y mostrar el nombre\n",
        "catalog_city=urgencias_dir+\"municipios.xlsx\"\n",
        "!wget -O $catalog_city http://gobi.salud.gob.mx/gobi/catalogos/catalogosmaestros/MUNICIPIOS_202404.xlsx?v=2024.05.15\n"
      ],
      "metadata": {
        "colab": {
          "base_uri": "https://localhost:8080/"
        },
        "id": "BZlv2lb_GTuU",
        "outputId": "72b9d403-76bd-4736-ef7c-c3d270c3582c"
      },
      "execution_count": 39,
      "outputs": [
        {
          "output_type": "stream",
          "name": "stdout",
          "text": [
            "--2024-06-09 04:30:17--  http://gobi.salud.gob.mx/gobi/catalogos/catalogosmaestros/MUNICIPIOS_202404.xlsx?v=2024.05.15\n",
            "Resolving gobi.salud.gob.mx (gobi.salud.gob.mx)... 187.218.18.225\n",
            "Connecting to gobi.salud.gob.mx (gobi.salud.gob.mx)|187.218.18.225|:80... connected.\n",
            "HTTP request sent, awaiting response... 200 OK\n",
            "Length: 72333 (71K) [application/vnd.openxmlformats-officedocument.spreadsheetml.sheet]\n",
            "Saving to: ‘urgencias-salud-data/municipios.xlsx’\n",
            "\n",
            "urgencias-salud-dat 100%[===================>]  70.64K   264KB/s    in 0.3s    \n",
            "\n",
            "2024-06-09 04:30:17 (264 KB/s) - ‘urgencias-salud-data/municipios.xlsx’ saved [72333/72333]\n",
            "\n"
          ]
        }
      ]
    },
    {
      "cell_type": "code",
      "source": [
        "#Convertimos los municipios en un pandaDataFrame, en este caso es un archivo xlsx\n",
        "df_cities = pd.read_excel(urgencias_dir+'municipios.xlsx')\n",
        "\n",
        "\n",
        "#Insertamos todos los datos en nuestra base de datos de SQLite\n",
        "df_cities.to_sql(name='municipios_raw', con=conn)\n",
        "\n",
        "create_city_SQL=\"CREATE TABLE IF NOT EXISTS `cities` (\"\n",
        "create_city_SQL+=\"  `city_id` INTEGER,\"\n",
        "create_city_SQL+=\"  `city_name` TEXT NOT NULL,\"\n",
        "create_city_SQL+=\"  PRIMARY KEY(`city_id`));\"\n",
        "cursor.execute(create_city_SQL)"
      ],
      "metadata": {
        "colab": {
          "base_uri": "https://localhost:8080/"
        },
        "id": "Jw9qBbyfGKei",
        "outputId": "daded983-37be-4424-e1cc-f1cdaf1fe367"
      },
      "execution_count": 40,
      "outputs": [
        {
          "output_type": "execute_result",
          "data": {
            "text/plain": [
              "<sqlite3.Cursor at 0x7acdde4d9640>"
            ]
          },
          "metadata": {},
          "execution_count": 40
        }
      ]
    },
    {
      "cell_type": "code",
      "source": [
        "#Cargamos nuestra base de datos de ciudades con los datos de sonora\n",
        "#Del catalogo Descriptores_Base_de_Datos_URGENCIAS_2008_2016 obtenemos el ID de Sonora=26\n",
        "populate_emergency_SQL=\"INSERT INTO `cities` (city_id,city_name) \"\n",
        "populate_emergency_SQL+=\"SELECT CATALOG_KEY,MUNICIPIO FROM `municipios_raw` WHERE EFE_KEY='26'\"\n",
        "cursor.execute(populate_emergency_SQL)"
      ],
      "metadata": {
        "colab": {
          "base_uri": "https://localhost:8080/"
        },
        "id": "4_cZCgML6Pks",
        "outputId": "70b7dacc-98d6-46e6-9ff6-903e7764257b"
      },
      "execution_count": 48,
      "outputs": [
        {
          "output_type": "execute_result",
          "data": {
            "text/plain": [
              "<sqlite3.Cursor at 0x7acdde4d9640>"
            ]
          },
          "metadata": {},
          "execution_count": 48
        }
      ]
    },
    {
      "cell_type": "code",
      "source": [
        "#Creamos una vista de nuestros dos conjuntos de datos\n",
        "cursor.execute(\"CREATE VIEW IF NOT EXISTS emergency_cities_view AS SELECT * FROM `emergency`,`cities` WHERE emergency.eme_id_city=cities.city_id;\")"
      ],
      "metadata": {
        "colab": {
          "base_uri": "https://localhost:8080/"
        },
        "id": "2i66wya6H9ni",
        "outputId": "32b60f2c-ba9a-4d48-cca6-c50bbc52cf28"
      },
      "execution_count": 46,
      "outputs": [
        {
          "output_type": "execute_result",
          "data": {
            "text/plain": [
              "<sqlite3.Cursor at 0x7acdde4d9640>"
            ]
          },
          "metadata": {},
          "execution_count": 46
        }
      ]
    },
    {
      "cell_type": "code",
      "source": [
        "#Diferentes consultas de prueba para verificar que nuestras tablas tienen informacion\n",
        "#test=\"SELECT * FROM `cities` LIMIT 10\"\n",
        "#test=\"SELECT * FROM `emergency` LIMIT 10 \"\n",
        "#test=\"SELECT * FROM `emergencias_raw` LIMIT 10 \"\n",
        "#df_test= pd.read_sql_query(test, conn)\n",
        "#df_test"
      ],
      "metadata": {
        "id": "KZuYTS_M5Rlg"
      },
      "execution_count": 99,
      "outputs": []
    },
    {
      "cell_type": "code",
      "source": [
        "#Agrupamos por municipio, obtenemos los porcentajes de emergencias para todos y agrupamos los primeros cinco y todos los demas en otro calculo\n",
        "cursor.execute(\"SELECT count(eme_id) FROM `emergency_cities_view`;\")\n",
        "total_eme=cursor.fetchone()[0]\n",
        "\n",
        "emergency_byCity=\"SELECT city_id, city_name, count(eme_id) AS city_total, count(eme_id)/\"+str(total_eme)+\". AS city_percent FROM `emergency_cities_view` \"\n",
        "emergency_byCity+=\"GROUP BY `city_id` ORDER BY count(eme_id) DESC LIMIT 5;\"\n",
        "df_emergencies_top5= pd.read_sql_query(emergency_byCity, conn)\n",
        "city_ids=df_emergencies_top5['city_id'].astype(str).str.cat(sep=', ')\n",
        "\n",
        "emergency_byCityOthers=\"SELECT city_id, 'Otros' AS city_name, count(eme_id) AS city_total, count(eme_id)/\"+str(total_eme)+\". AS city_percent FROM `emergency_cities_view` \"\n",
        "emergency_byCityOthers+=\" WHERE city_id NOT IN(\"+city_ids+\")LIMIT 1;\"\n",
        "df_emergencies_other= pd.read_sql_query(emergency_byCityOthers, conn)\n",
        "\n",
        "df_emergencies_all = df_emergencies_top5._append(df_emergencies_other, ignore_index=True)\n",
        "plotTop5 = df_emergencies_all.plot(kind='pie',y='city_percent',labels=df_emergencies_all['city_name'], title=\"Ciudades con mas emergencias en sonora\", label='',autopct='%1.0f%%',pctdistance=1.1, labeldistance=1.2,shadow=True, startangle=90)\n"
      ],
      "metadata": {
        "colab": {
          "base_uri": "https://localhost:8080/",
          "height": 428
        },
        "id": "-6RU52ANUhZp",
        "outputId": "31286678-7720-4570-cfe3-0382c1b0e533"
      },
      "execution_count": 95,
      "outputs": [
        {
          "output_type": "display_data",
          "data": {
            "text/plain": [
              "<Figure size 640x480 with 1 Axes>"
            ],
            "image/png": "[encoded data removed]"
          },
          "metadata": {}
        }
      ]
    },
    {
      "cell_type": "code",
      "source": [
        "#Calculamos las emergencias por hombre y mujer\n",
        "sex_rename=\" CASE eme_sex WHEN 1 THEN 'Hombres' ELSE 'Mujeres' END eme_sex_alias \"\n",
        "emergency_bySex=\"SELECT count(eme_sex) AS 'total', \"+sex_rename+\", (count(eme_id)/\"+str(total_eme)+\".) AS percent FROM `emergency_cities_view` \"\n",
        "emergency_bySex+=\" GROUP BY eme_sex HAVING eme_sex IN(1,2);\"\n",
        "df_emergencies_sex= pd.read_sql_query(emergency_bySex, conn)\n",
        "plotbYsEX = df_emergencies_sex.plot(kind='pie',y='percent', labels=df_emergencies_sex['eme_sex_alias'], title=\"Porcentaje de mujeres y hombres que registran una emergencia\", label='',autopct='%1.0f%%',pctdistance=1.1, labeldistance=1.2,shadow=True, startangle=90)\n"
      ],
      "metadata": {
        "colab": {
          "base_uri": "https://localhost:8080/",
          "height": 428
        },
        "id": "2oroVlbH3P5A",
        "outputId": "5ff9e0fa-8a3c-47ab-9124-3f9f42d092ce"
      },
      "execution_count": 96,
      "outputs": [
        {
          "output_type": "display_data",
          "data": {
            "text/plain": [
              "<Figure size 640x480 with 1 Axes>"
            ],
            "image/png": "[encoded data removed]"
          },
          "metadata": {}
        }
      ]
    },
    {
      "cell_type": "code",
      "source": [
        "#Mas de la mitad de las emerjencias son de mujeres, esto podria explicarse por complicaciones de un embarazo?\n",
        "#para ello se tendria que analizar  el campo AFECPRIN uniendolo con Descriptores_Base_de_Datos_URGENCIAS_2008_2016\n",
        "\n",
        "#Hermosillo concentra una gran cantidad de emergencias seria interesante comparar contra el numero total de habitantes..."
      ],
      "metadata": {
        "id": "eIcifRp7_Ka2"
      },
      "execution_count": 97,
      "outputs": []
    },
    {
      "cell_type": "code",
      "source": [
        "#Las ultimas 10 emergencias registradas ocurrieron en:\n",
        "emergency_last10=\"SELECT  city_name, eme_date_start FROM `emergency_cities_view` ORDER BY eme_date_start DESC LIMIT 10;\"\n",
        "df_emergencies_last10= pd.read_sql_query(emergency_last10, conn)\n",
        "#plotbYsEX = df_bySex.plot(kind='pie',y='percent', title=\"Porcentaje de mujeres y hombres que registran una emergencia\", label='',autopct='%1.0f%%',pctdistance=1.1, labeldistance=1.2,shadow=True, startangle=90)\n",
        "df_emergencies_last10"
      ],
      "metadata": {
        "colab": {
          "base_uri": "https://localhost:8080/",
          "height": 363
        },
        "id": "N9OQkPzNvPIk",
        "outputId": "5a77ba0d-c0aa-40dc-a154-6d1a42439262"
      },
      "execution_count": 98,
      "outputs": [
        {
          "output_type": "execute_result",
          "data": {
            "text/plain": [
              "    city_name eme_date_start\n",
              "0      ALAMOS     2024-04-01\n",
              "1   MAGDALENA     2024-03-31\n",
              "2      IMURIS     2024-03-31\n",
              "3   MAGDALENA     2024-03-31\n",
              "4   MAGDALENA     2024-03-31\n",
              "5  HERMOSILLO     2024-03-31\n",
              "6   MAGDALENA     2024-03-31\n",
              "7   MAGDALENA     2024-03-31\n",
              "8   MAGDALENA     2024-03-31\n",
              "9   MAGDALENA     2024-03-31"
            ],
            "text/html": [
              "\n",
              "  <div id=\"df-84b5fa59-d2b0-48fe-af52-a82e5bf6f90d\" class=\"colab-df-container\">\n",
              "    <div>\n",
              "<style scoped>\n",
              "    .dataframe tbody tr th:only-of-type {\n",
              "        vertical-align: middle;\n",
              "    }\n",
              "\n",
              "    .dataframe tbody tr th {\n",
              "        vertical-align: top;\n",
              "    }\n",
              "\n",
              "    .dataframe thead th {\n",
              "        text-align: right;\n",
              "    }\n",
              "</style>\n",
              "<table border=\"1\" class=\"dataframe\">\n",
              "  <thead>\n",
              "    <tr style=\"text-align: right;\">\n",
              "      <th></th>\n",
              "      <th>city_name</th>\n",
              "      <th>eme_date_start</th>\n",
              "    </tr>\n",
              "  </thead>\n",
              "  <tbody>\n",
              "    <tr>\n",
              "      <th>0</th>\n",
              "      <td>ALAMOS</td>\n",
              "      <td>2024-04-01</td>\n",
              "    </tr>\n",
              "    <tr>\n",
              "      <th>1</th>\n",
              "      <td>MAGDALENA</td>\n",
              "      <td>2024-03-31</td>\n",
              "    </tr>\n",
              "    <tr>\n",
              "      <th>2</th>\n",
              "      <td>IMURIS</td>\n",
              "      <td>2024-03-31</td>\n",
              "    </tr>\n",
              "    <tr>\n",
              "      <th>3</th>\n",
              "      <td>MAGDALENA</td>\n",
              "      <td>2024-03-31</td>\n",
              "    </tr>\n",
              "    <tr>\n",
              "      <th>4</th>\n",
              "      <td>MAGDALENA</td>\n",
              "      <td>2024-03-31</td>\n",
              "    </tr>\n",
              "    <tr>\n",
              "      <th>5</th>\n",
              "      <td>HERMOSILLO</td>\n",
              "      <td>2024-03-31</td>\n",
              "    </tr>\n",
              "    <tr>\n",
              "      <th>6</th>\n",
              "      <td>MAGDALENA</td>\n",
              "      <td>2024-03-31</td>\n",
              "    </tr>\n",
              "    <tr>\n",
              "      <th>7</th>\n",
              "      <td>MAGDALENA</td>\n",
              "      <td>2024-03-31</td>\n",
              "    </tr>\n",
              "    <tr>\n",
              "      <th>8</th>\n",
              "      <td>MAGDALENA</td>\n",
              "      <td>2024-03-31</td>\n",
              "    </tr>\n",
              "    <tr>\n",
              "      <th>9</th>\n",
              "      <td>MAGDALENA</td>\n",
              "      <td>2024-03-31</td>\n",
              "    </tr>\n",
              "  </tbody>\n",
              "</table>\n",
              "</div>\n",
              "    <div class=\"colab-df-buttons\">\n",
              "\n",
              "  <div class=\"colab-df-container\">\n",
              "    <button class=\"colab-df-convert\" onclick=\"convertToInteractive('df-84b5fa59-d2b0-48fe-af52-a82e5bf6f90d')\"\n",
              "            title=\"Convert this dataframe to an interactive table.\"\n",
              "            style=\"display:none;\">\n",
              "\n",
              "  <svg xmlns=\"http://www.w3.org/2000/svg\" height=\"24px\" viewBox=\"0 -960 960 960\">\n",
              "    <path d=\"M120-120v-720h720v720H120Zm60-500h600v-160H180v160Zm220 220h160v-160H400v160Zm0 220h160v-160H400v160ZM180-400h160v-160H180v160Zm440 0h160v-160H620v160ZM180-180h160v-160H180v160Zm440 0h160v-160H620v160Z\"/>\n",
              "  </svg>\n",
              "    </button>\n",
              "\n",
              "  <style>\n",
              "    .colab-df-container {\n",
              "      display:flex;\n",
              "      gap: 12px;\n",
              "    }\n",
              "\n",
              "    .colab-df-convert {\n",
              "      background-color: #E8F0FE;\n",
              "      border: none;\n",
              "      border-radius: 50%;\n",
              "      cursor: pointer;\n",
              "      display: none;\n",
              "      fill: #1967D2;\n",
              "      height: 32px;\n",
              "      padding: 0 0 0 0;\n",
              "      width: 32px;\n",
              "    }\n",
              "\n",
              "    .colab-df-convert:hover {\n",
              "      background-color: #E2EBFA;\n",
              "      box-shadow: 0px 1px 2px rgba(60, 64, 67, 0.3), 0px 1px 3px 1px rgba(60, 64, 67, 0.15);\n",
              "      fill: #174EA6;\n",
              "    }\n",
              "\n",
              "    .colab-df-buttons div {\n",
              "      margin-bottom: 4px;\n",
              "    }\n",
              "\n",
              "    [theme=dark] .colab-df-convert {\n",
              "      background-color: #3B4455;\n",
              "      fill: #D2E3FC;\n",
              "    }\n",
              "\n",
              "    [theme=dark] .colab-df-convert:hover {\n",
              "      background-color: #434B5C;\n",
              "      box-shadow: 0px 1px 3px 1px rgba(0, 0, 0, 0.15);\n",
              "      filter: drop-shadow(0px 1px 2px rgba(0, 0, 0, 0.3));\n",
              "      fill: #FFFFFF;\n",
              "    }\n",
              "  </style>\n",
              "\n",
              "    <script>\n",
              "      const buttonEl =\n",
              "        document.querySelector('#df-84b5fa59-d2b0-48fe-af52-a82e5bf6f90d button.colab-df-convert');\n",
              "      buttonEl.style.display =\n",
              "        google.colab.kernel.accessAllowed ? 'block' : 'none';\n",
              "\n",
              "      async function convertToInteractive(key) {\n",
              "        const element = document.querySelector('#df-84b5fa59-d2b0-48fe-af52-a82e5bf6f90d');\n",
              "        const dataTable =\n",
              "          await google.colab.kernel.invokeFunction('convertToInteractive',\n",
              "                                                    [key], {});\n",
              "        if (!dataTable) return;\n",
              "\n",
              "        const docLinkHtml = 'Like what you see? Visit the ' +\n",
              "          '<a target=\"_blank\" href=https://colab.research.google.com/notebooks/data_table.ipynb>data table notebook</a>'\n",
              "          + ' to learn more about interactive tables.';\n",
              "        element.innerHTML = '';\n",
              "        dataTable['output_type'] = 'display_data';\n",
              "        await google.colab.output.renderOutput(dataTable, element);\n",
              "        const docLink = document.createElement('div');\n",
              "        docLink.innerHTML = docLinkHtml;\n",
              "        element.appendChild(docLink);\n",
              "      }\n",
              "    </script>\n",
              "  </div>\n",
              "\n",
              "\n",
              "<div id=\"df-7af39d3b-0e59-4a31-b5f1-762fa9d34745\">\n",
              "  <button class=\"colab-df-quickchart\" onclick=\"quickchart('df-7af39d3b-0e59-4a31-b5f1-762fa9d34745')\"\n",
              "            title=\"Suggest charts\"\n",
              "            style=\"display:none;\">\n",
              "\n",
              "<svg xmlns=\"http://www.w3.org/2000/svg\" height=\"24px\"viewBox=\"0 0 24 24\"\n",
              "     width=\"24px\">\n",
              "    <g>\n",
              "        <path d=\"M19 3H5c-1.1 0-2 .9-2 2v14c0 1.1.9 2 2 2h14c1.1 0 2-.9 2-2V5c0-1.1-.9-2-2-2zM9 17H7v-7h2v7zm4 0h-2V7h2v10zm4 0h-2v-4h2v4z\"/>\n",
              "    </g>\n",
              "</svg>\n",
              "  </button>\n",
              "\n",
              "<style>\n",
              "  .colab-df-quickchart {\n",
              "      --bg-color: #E8F0FE;\n",
              "      --fill-color: #1967D2;\n",
              "      --hover-bg-color: #E2EBFA;\n",
              "      --hover-fill-color: #174EA6;\n",
              "      --disabled-fill-color: #AAA;\n",
              "      --disabled-bg-color: #DDD;\n",
              "  }\n",
              "\n",
              "  [theme=dark] .colab-df-quickchart {\n",
              "      --bg-color: #3B4455;\n",
              "      --fill-color: #D2E3FC;\n",
              "      --hover-bg-color: #434B5C;\n",
              "      --hover-fill-color: #FFFFFF;\n",
              "      --disabled-bg-color: #3B4455;\n",
              "      --disabled-fill-color: #666;\n",
              "  }\n",
              "\n",
              "  .colab-df-quickchart {\n",
              "    background-color: var(--bg-color);\n",
              "    border: none;\n",
              "    border-radius: 50%;\n",
              "    cursor: pointer;\n",
              "    display: none;\n",
              "    fill: var(--fill-color);\n",
              "    height: 32px;\n",
              "    padding: 0;\n",
              "    width: 32px;\n",
              "  }\n",
              "\n",
              "  .colab-df-quickchart:hover {\n",
              "    background-color: var(--hover-bg-color);\n",
              "    box-shadow: 0 1px 2px rgba(60, 64, 67, 0.3), 0 1px 3px 1px rgba(60, 64, 67, 0.15);\n",
              "    fill: var(--button-hover-fill-color);\n",
              "  }\n",
              "\n",
              "  .colab-df-quickchart-complete:disabled,\n",
              "  .colab-df-quickchart-complete:disabled:hover {\n",
              "    background-color: var(--disabled-bg-color);\n",
              "    fill: var(--disabled-fill-color);\n",
              "    box-shadow: none;\n",
              "  }\n",
              "\n",
              "  .colab-df-spinner {\n",
              "    border: 2px solid var(--fill-color);\n",
              "    border-color: transparent;\n",
              "    border-bottom-color: var(--fill-color);\n",
              "    animation:\n",
              "      spin 1s steps(1) infinite;\n",
              "  }\n",
              "\n",
              "  @keyframes spin {\n",
              "    0% {\n",
              "      border-color: transparent;\n",
              "      border-bottom-color: var(--fill-color);\n",
              "      border-left-color: var(--fill-color);\n",
              "    }\n",
              "    20% {\n",
              "      border-color: transparent;\n",
              "      border-left-color: var(--fill-color);\n",
              "      border-top-color: var(--fill-color);\n",
              "    }\n",
              "    30% {\n",
              "      border-color: transparent;\n",
              "      border-left-color: var(--fill-color);\n",
              "      border-top-color: var(--fill-color);\n",
              "      border-right-color: var(--fill-color);\n",
              "    }\n",
              "    40% {\n",
              "      border-color: transparent;\n",
              "      border-right-color: var(--fill-color);\n",
              "      border-top-color: var(--fill-color);\n",
              "    }\n",
              "    60% {\n",
              "      border-color: transparent;\n",
              "      border-right-color: var(--fill-color);\n",
              "    }\n",
              "    80% {\n",
              "      border-color: transparent;\n",
              "      border-right-color: var(--fill-color);\n",
              "      border-bottom-color: var(--fill-color);\n",
              "    }\n",
              "    90% {\n",
              "      border-color: transparent;\n",
              "      border-bottom-color: var(--fill-color);\n",
              "    }\n",
              "  }\n",
              "</style>\n",
              "\n",
              "  <script>\n",
              "    async function quickchart(key) {\n",
              "      const quickchartButtonEl =\n",
              "        document.querySelector('#' + key + ' button');\n",
              "      quickchartButtonEl.disabled = true;  // To prevent multiple clicks.\n",
              "      quickchartButtonEl.classList.add('colab-df-spinner');\n",
              "      try {\n",
              "        const charts = await google.colab.kernel.invokeFunction(\n",
              "            'suggestCharts', [key], {});\n",
              "      } catch (error) {\n",
              "        console.error('Error during call to suggestCharts:', error);\n",
              "      }\n",
              "      quickchartButtonEl.classList.remove('colab-df-spinner');\n",
              "      quickchartButtonEl.classList.add('colab-df-quickchart-complete');\n",
              "    }\n",
              "    (() => {\n",
              "      let quickchartButtonEl =\n",
              "        document.querySelector('#df-7af39d3b-0e59-4a31-b5f1-762fa9d34745 button');\n",
              "      quickchartButtonEl.style.display =\n",
              "        google.colab.kernel.accessAllowed ? 'block' : 'none';\n",
              "    })();\n",
              "  </script>\n",
              "</div>\n",
              "\n",
              "  <div id=\"id_e64a6d19-abad-49df-a901-4afd57006506\">\n",
              "    <style>\n",
              "      .colab-df-generate {\n",
              "        background-color: #E8F0FE;\n",
              "        border: none;\n",
              "        border-radius: 50%;\n",
              "        cursor: pointer;\n",
              "        display: none;\n",
              "        fill: #1967D2;\n",
              "        height: 32px;\n",
              "        padding: 0 0 0 0;\n",
              "        width: 32px;\n",
              "      }\n",
              "\n",
              "      .colab-df-generate:hover {\n",
              "        background-color: #E2EBFA;\n",
              "        box-shadow: 0px 1px 2px rgba(60, 64, 67, 0.3), 0px 1px 3px 1px rgba(60, 64, 67, 0.15);\n",
              "        fill: #174EA6;\n",
              "      }\n",
              "\n",
              "      [theme=dark] .colab-df-generate {\n",
              "        background-color: #3B4455;\n",
              "        fill: #D2E3FC;\n",
              "      }\n",
              "\n",
              "      [theme=dark] .colab-df-generate:hover {\n",
              "        background-color: #434B5C;\n",
              "        box-shadow: 0px 1px 3px 1px rgba(0, 0, 0, 0.15);\n",
              "        filter: drop-shadow(0px 1px 2px rgba(0, 0, 0, 0.3));\n",
              "        fill: #FFFFFF;\n",
              "      }\n",
              "    </style>\n",
              "    <button class=\"colab-df-generate\" onclick=\"generateWithVariable('df_emergencies_last10')\"\n",
              "            title=\"Generate code using this dataframe.\"\n",
              "            style=\"display:none;\">\n",
              "\n",
              "  <svg xmlns=\"http://www.w3.org/2000/svg\" height=\"24px\"viewBox=\"0 0 24 24\"\n",
              "       width=\"24px\">\n",
              "    <path d=\"M7,19H8.4L18.45,9,17,7.55,7,17.6ZM5,21V16.75L18.45,3.32a2,2,0,0,1,2.83,0l1.4,1.43a1.91,1.91,0,0,1,.58,1.4,1.91,1.91,0,0,1-.58,1.4L9.25,21ZM18.45,9,17,7.55Zm-12,3A5.31,5.31,0,0,0,4.9,8.1,5.31,5.31,0,0,0,1,6.5,5.31,5.31,0,0,0,4.9,4.9,5.31,5.31,0,0,0,6.5,1,5.31,5.31,0,0,0,8.1,4.9,5.31,5.31,0,0,0,12,6.5,5.46,5.46,0,0,0,6.5,12Z\"/>\n",
              "  </svg>\n",
              "    </button>\n",
              "    <script>\n",
              "      (() => {\n",
              "      const buttonEl =\n",
              "        document.querySelector('#id_e64a6d19-abad-49df-a901-4afd57006506 button.colab-df-generate');\n",
              "      buttonEl.style.display =\n",
              "        google.colab.kernel.accessAllowed ? 'block' : 'none';\n",
              "\n",
              "      buttonEl.onclick = () => {\n",
              "        google.colab.notebook.generateWithVariable('df_emergencies_last10');\n",
              "      }\n",
              "      })();\n",
              "    </script>\n",
              "  </div>\n",
              "\n",
              "    </div>\n",
              "  </div>\n"
            ],
            "application/vnd.google.colaboratory.intrinsic+json": {
              "type": "dataframe",
              "variable_name": "df_emergencies_last10",
              "summary": "{\n  \"name\": \"df_emergencies_last10\",\n  \"rows\": 10,\n  \"fields\": [\n    {\n      \"column\": \"city_name\",\n      \"properties\": {\n        \"dtype\": \"category\",\n        \"num_unique_values\": 4,\n        \"samples\": [\n          \"MAGDALENA\",\n          \"HERMOSILLO\",\n          \"ALAMOS\"\n        ],\n        \"semantic_type\": \"\",\n        \"description\": \"\"\n      }\n    },\n    {\n      \"column\": \"eme_date_start\",\n      \"properties\": {\n        \"dtype\": \"object\",\n        \"num_unique_values\": 2,\n        \"samples\": [\n          \"2024-03-31\",\n          \"2024-04-01\"\n        ],\n        \"semantic_type\": \"\",\n        \"description\": \"\"\n      }\n    }\n  ]\n}"
            }
          },
          "metadata": {},
          "execution_count": 98
        }
      ]
    },
    {
      "cell_type": "code",
      "source": [
        "conn.close()"
      ],
      "metadata": {
        "id": "Wa756I2_yvtf"
      },
      "execution_count": 84,
      "outputs": []
    }
  ]
}